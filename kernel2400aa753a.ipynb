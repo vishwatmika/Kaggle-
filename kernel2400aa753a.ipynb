{
 "cells": [
  {
   "cell_type": "code",
   "execution_count": 1,
   "metadata": {
    "_cell_guid": "b1076dfc-b9ad-4769-8c92-a6c4dae69d19",
    "_uuid": "8f2839f25d086af736a60e9eeb907d3b93b6e0e5"
   },
   "outputs": [],
   "source": [
    "# This Python 3 environment comes with many helpful analytics libraries installed\n",
    "# It is defined by the kaggle/python docker image: https://github.com/kaggle/docker-python\n",
    "# For example, here's several helpful packages to load in \n",
    "\n",
    "import numpy as np # linear algebra\n",
    "import pandas as pd # data processing, CSV file I/O (e.g. pd.read_csv)\n",
    "\n",
    "# Input data files are available in the \"../input/\" directory.\n",
    "# For example, running this (by clicking run or pressing Shift+Enter) will list all files under the input directory\n",
    "\n",
    "import os\n",
    "for dirname, _, filenames in os.walk('/kaggle/input'):\n",
    "    for filename in filenames:\n",
    "        print(os.path.join(dirname, filename))\n",
    "\n",
    "# Any results you write to the current directory are saved as output."
   ]
  },
  {
   "cell_type": "code",
   "execution_count": 2,
   "metadata": {
    "_cell_guid": "79c7e3d0-c299-4dcb-8224-4455121ee9b0",
    "_uuid": "d629ff2d2480ee46fbb7e2d37f6b5fab8052498a"
   },
   "outputs": [],
   "source": [
    "df = pd.read_csv('predictiontraining(with labels).csv')\n",
    "pr = pd.read_csv('predict_data.csv')"
   ]
  },
  {
   "cell_type": "code",
   "execution_count": 3,
   "metadata": {},
   "outputs": [
    {
     "data": {
      "text/plain": [
       "male       42758\n",
       "female     27170\n",
       "other      27060\n",
       "unknown     6849\n",
       "0            724\n",
       "Name: Gender, dtype: int64"
      ]
     },
     "execution_count": 3,
     "metadata": {},
     "output_type": "execute_result"
    }
   ],
   "source": [
    "df['Gender'].value_counts()"
   ]
  },
  {
   "cell_type": "code",
   "execution_count": 4,
   "metadata": {},
   "outputs": [
    {
     "data": {
      "text/html": [
       "<div>\n",
       "<style scoped>\n",
       "    .dataframe tbody tr th:only-of-type {\n",
       "        vertical-align: middle;\n",
       "    }\n",
       "\n",
       "    .dataframe tbody tr th {\n",
       "        vertical-align: top;\n",
       "    }\n",
       "\n",
       "    .dataframe thead th {\n",
       "        text-align: right;\n",
       "    }\n",
       "</style>\n",
       "<table border=\"1\" class=\"dataframe\">\n",
       "  <thead>\n",
       "    <tr style=\"text-align: right;\">\n",
       "      <th></th>\n",
       "      <th>Instance</th>\n",
       "      <th>Year of Record</th>\n",
       "      <th>Gender</th>\n",
       "      <th>Age</th>\n",
       "      <th>Country</th>\n",
       "      <th>Size of City</th>\n",
       "      <th>Profession</th>\n",
       "      <th>University Degree</th>\n",
       "      <th>Wears Glasses</th>\n",
       "      <th>Hair Color</th>\n",
       "      <th>Body Height [cm]</th>\n",
       "      <th>Income in EUR</th>\n",
       "    </tr>\n",
       "  </thead>\n",
       "  <tbody>\n",
       "    <tr>\n",
       "      <th>0</th>\n",
       "      <td>1</td>\n",
       "      <td>1997.0</td>\n",
       "      <td>0</td>\n",
       "      <td>41.0</td>\n",
       "      <td>Belarus</td>\n",
       "      <td>1239930</td>\n",
       "      <td>steel workers</td>\n",
       "      <td>Bachelor</td>\n",
       "      <td>0</td>\n",
       "      <td>Blond</td>\n",
       "      <td>193</td>\n",
       "      <td>61031.94416</td>\n",
       "    </tr>\n",
       "    <tr>\n",
       "      <th>1</th>\n",
       "      <td>2</td>\n",
       "      <td>1996.0</td>\n",
       "      <td>other</td>\n",
       "      <td>41.0</td>\n",
       "      <td>Singapore</td>\n",
       "      <td>1603504</td>\n",
       "      <td>safe event coordinator</td>\n",
       "      <td>Master</td>\n",
       "      <td>0</td>\n",
       "      <td>Black</td>\n",
       "      <td>186</td>\n",
       "      <td>91001.32764</td>\n",
       "    </tr>\n",
       "    <tr>\n",
       "      <th>2</th>\n",
       "      <td>3</td>\n",
       "      <td>2018.0</td>\n",
       "      <td>other</td>\n",
       "      <td>28.0</td>\n",
       "      <td>Norway</td>\n",
       "      <td>1298017</td>\n",
       "      <td>receivables/payables analyst</td>\n",
       "      <td>PhD</td>\n",
       "      <td>1</td>\n",
       "      <td>Brown</td>\n",
       "      <td>170</td>\n",
       "      <td>157982.17670</td>\n",
       "    </tr>\n",
       "    <tr>\n",
       "      <th>3</th>\n",
       "      <td>4</td>\n",
       "      <td>2006.0</td>\n",
       "      <td>other</td>\n",
       "      <td>33.0</td>\n",
       "      <td>Cuba</td>\n",
       "      <td>751903</td>\n",
       "      <td>fleet assistant</td>\n",
       "      <td>No</td>\n",
       "      <td>1</td>\n",
       "      <td>Black</td>\n",
       "      <td>171</td>\n",
       "      <td>45993.75793</td>\n",
       "    </tr>\n",
       "    <tr>\n",
       "      <th>4</th>\n",
       "      <td>5</td>\n",
       "      <td>2010.0</td>\n",
       "      <td>female</td>\n",
       "      <td>46.0</td>\n",
       "      <td>United Arab Emirates</td>\n",
       "      <td>95389</td>\n",
       "      <td>lead trainer</td>\n",
       "      <td>0</td>\n",
       "      <td>0</td>\n",
       "      <td>Blond</td>\n",
       "      <td>188</td>\n",
       "      <td>38022.16217</td>\n",
       "    </tr>\n",
       "  </tbody>\n",
       "</table>\n",
       "</div>"
      ],
      "text/plain": [
       "   Instance  Year of Record  Gender   Age               Country  Size of City  \\\n",
       "0         1          1997.0       0  41.0               Belarus       1239930   \n",
       "1         2          1996.0   other  41.0             Singapore       1603504   \n",
       "2         3          2018.0   other  28.0                Norway       1298017   \n",
       "3         4          2006.0   other  33.0                  Cuba        751903   \n",
       "4         5          2010.0  female  46.0  United Arab Emirates         95389   \n",
       "\n",
       "                     Profession University Degree  Wears Glasses Hair Color  \\\n",
       "0                 steel workers          Bachelor              0      Blond   \n",
       "1        safe event coordinator            Master              0      Black   \n",
       "2  receivables/payables analyst               PhD              1      Brown   \n",
       "3               fleet assistant                No              1      Black   \n",
       "4                  lead trainer                 0              0      Blond   \n",
       "\n",
       "   Body Height [cm]  Income in EUR  \n",
       "0               193    61031.94416  \n",
       "1               186    91001.32764  \n",
       "2               170   157982.17670  \n",
       "3               171    45993.75793  \n",
       "4               188    38022.16217  "
      ]
     },
     "execution_count": 4,
     "metadata": {},
     "output_type": "execute_result"
    }
   ],
   "source": [
    "df.head()"
   ]
  },
  {
   "cell_type": "code",
   "execution_count": 5,
   "metadata": {},
   "outputs": [],
   "source": [
    "df = df.dropna(subset = ['University Degree', 'Profession', 'Gender'])"
   ]
  },
  {
   "cell_type": "code",
   "execution_count": 6,
   "metadata": {},
   "outputs": [
    {
     "data": {
      "text/plain": [
       "(73230, 12)"
      ]
     },
     "execution_count": 6,
     "metadata": {},
     "output_type": "execute_result"
    }
   ],
   "source": [
    "pr.shape"
   ]
  },
  {
   "cell_type": "code",
   "execution_count": 7,
   "metadata": {},
   "outputs": [
    {
     "name": "stdout",
     "output_type": "stream",
     "text": [
      "<class 'pandas.core.frame.DataFrame'>\n",
      "Int64Index: 97414 entries, 0 to 111992\n",
      "Data columns (total 12 columns):\n",
      "Instance             97414 non-null int64\n",
      "Year of Record       97034 non-null float64\n",
      "Gender               97414 non-null object\n",
      "Age                  96984 non-null float64\n",
      "Country              97414 non-null object\n",
      "Size of City         97414 non-null int64\n",
      "Profession           97414 non-null object\n",
      "University Degree    97414 non-null object\n",
      "Wears Glasses        97414 non-null int64\n",
      "Hair Color           91151 non-null object\n",
      "Body Height [cm]     97414 non-null int64\n",
      "Income in EUR        97414 non-null float64\n",
      "dtypes: float64(3), int64(4), object(5)\n",
      "memory usage: 9.7+ MB\n"
     ]
    }
   ],
   "source": [
    "df.info()"
   ]
  },
  {
   "cell_type": "code",
   "execution_count": 8,
   "metadata": {},
   "outputs": [
    {
     "name": "stdout",
     "output_type": "stream",
     "text": [
      "['Bachelor' 'Master' 'PhD' 'No' '0']\n",
      "['0' 'other' 'female' 'male' 'unknown']\n"
     ]
    }
   ],
   "source": [
    "print(df['University Degree'].unique())\n",
    "print(df['Gender'].unique())"
   ]
  },
  {
   "cell_type": "code",
   "execution_count": 9,
   "metadata": {},
   "outputs": [
    {
     "data": {
      "text/html": [
       "<div>\n",
       "<style scoped>\n",
       "    .dataframe tbody tr th:only-of-type {\n",
       "        vertical-align: middle;\n",
       "    }\n",
       "\n",
       "    .dataframe tbody tr th {\n",
       "        vertical-align: top;\n",
       "    }\n",
       "\n",
       "    .dataframe thead th {\n",
       "        text-align: right;\n",
       "    }\n",
       "</style>\n",
       "<table border=\"1\" class=\"dataframe\">\n",
       "  <thead>\n",
       "    <tr style=\"text-align: right;\">\n",
       "      <th></th>\n",
       "      <th>Instance</th>\n",
       "      <th>Year of Record</th>\n",
       "      <th>Gender</th>\n",
       "      <th>Age</th>\n",
       "      <th>Country</th>\n",
       "      <th>Size of City</th>\n",
       "      <th>Profession</th>\n",
       "      <th>University Degree</th>\n",
       "      <th>Wears Glasses</th>\n",
       "      <th>Hair Color</th>\n",
       "      <th>Body Height [cm]</th>\n",
       "      <th>Income</th>\n",
       "    </tr>\n",
       "  </thead>\n",
       "  <tbody>\n",
       "    <tr>\n",
       "      <th>0</th>\n",
       "      <td>111994</td>\n",
       "      <td>1992.0</td>\n",
       "      <td>other</td>\n",
       "      <td>21.0</td>\n",
       "      <td>Honduras</td>\n",
       "      <td>391652</td>\n",
       "      <td>senior project analyst</td>\n",
       "      <td>Master</td>\n",
       "      <td>1</td>\n",
       "      <td>Brown</td>\n",
       "      <td>153</td>\n",
       "      <td>NaN</td>\n",
       "    </tr>\n",
       "    <tr>\n",
       "      <th>1</th>\n",
       "      <td>111995</td>\n",
       "      <td>1986.0</td>\n",
       "      <td>other</td>\n",
       "      <td>34.0</td>\n",
       "      <td>Kyrgyzstan</td>\n",
       "      <td>33653</td>\n",
       "      <td>greeter</td>\n",
       "      <td>Bachelor</td>\n",
       "      <td>0</td>\n",
       "      <td>Black</td>\n",
       "      <td>163</td>\n",
       "      <td>NaN</td>\n",
       "    </tr>\n",
       "    <tr>\n",
       "      <th>2</th>\n",
       "      <td>111996</td>\n",
       "      <td>1994.0</td>\n",
       "      <td>unknown</td>\n",
       "      <td>53.0</td>\n",
       "      <td>Portugal</td>\n",
       "      <td>34765</td>\n",
       "      <td>liaison</td>\n",
       "      <td>Bachelor</td>\n",
       "      <td>1</td>\n",
       "      <td>Blond</td>\n",
       "      <td>153</td>\n",
       "      <td>NaN</td>\n",
       "    </tr>\n",
       "    <tr>\n",
       "      <th>3</th>\n",
       "      <td>111997</td>\n",
       "      <td>1984.0</td>\n",
       "      <td>unknown</td>\n",
       "      <td>29.0</td>\n",
       "      <td>Uruguay</td>\n",
       "      <td>1494132</td>\n",
       "      <td>occupational therapist</td>\n",
       "      <td>None</td>\n",
       "      <td>0</td>\n",
       "      <td>Black</td>\n",
       "      <td>154</td>\n",
       "      <td>NaN</td>\n",
       "    </tr>\n",
       "    <tr>\n",
       "      <th>4</th>\n",
       "      <td>111998</td>\n",
       "      <td>2007.0</td>\n",
       "      <td>other</td>\n",
       "      <td>17.0</td>\n",
       "      <td>Serbia</td>\n",
       "      <td>120661</td>\n",
       "      <td>portfolio manager</td>\n",
       "      <td>None</td>\n",
       "      <td>0</td>\n",
       "      <td>Red</td>\n",
       "      <td>191</td>\n",
       "      <td>NaN</td>\n",
       "    </tr>\n",
       "  </tbody>\n",
       "</table>\n",
       "</div>"
      ],
      "text/plain": [
       "   Instance  Year of Record   Gender   Age     Country  Size of City  \\\n",
       "0    111994          1992.0    other  21.0    Honduras        391652   \n",
       "1    111995          1986.0    other  34.0  Kyrgyzstan         33653   \n",
       "2    111996          1994.0  unknown  53.0    Portugal         34765   \n",
       "3    111997          1984.0  unknown  29.0     Uruguay       1494132   \n",
       "4    111998          2007.0    other  17.0      Serbia        120661   \n",
       "\n",
       "               Profession University Degree  Wears Glasses Hair Color  \\\n",
       "0  senior project analyst            Master              1      Brown   \n",
       "1                 greeter          Bachelor              0      Black   \n",
       "2                 liaison          Bachelor              1      Blond   \n",
       "3  occupational therapist              None              0      Black   \n",
       "4       portfolio manager              None              0        Red   \n",
       "\n",
       "   Body Height [cm]  Income  \n",
       "0               153     NaN  \n",
       "1               163     NaN  \n",
       "2               153     NaN  \n",
       "3               154     NaN  \n",
       "4               191     NaN  "
      ]
     },
     "execution_count": 9,
     "metadata": {},
     "output_type": "execute_result"
    }
   ],
   "source": [
    "df['University Degree'] = df['University Degree'].replace([\"0\", \"No\"], \"None\")\n",
    "df['Gender'] = df['Gender'].replace(\"0\", \"unknown\")\n",
    "df.head()\n",
    "\n",
    "pr['University Degree'] = pr['University Degree'].replace([\"0\", \"No\"], \"None\")\n",
    "pr['Gender'] = pr['Gender'].replace(\"0\", \"unknown\")\n",
    "pr.head()"
   ]
  },
  {
   "cell_type": "code",
   "execution_count": 10,
   "metadata": {},
   "outputs": [],
   "source": [
    "df = df.drop(['Wears Glasses', 'Hair Color', 'Body Height [cm]'], axis=1)\n",
    "df.isnull().sum()\n",
    "\n",
    "pr = pr.drop(['Wears Glasses', 'Hair Color', 'Body Height [cm]', 'Income'], axis=1)"
   ]
  },
  {
   "cell_type": "code",
   "execution_count": 11,
   "metadata": {},
   "outputs": [],
   "source": [
    "cat = ['Gender', 'Profession', 'Country', 'University Degree']\n",
    "df[cat] = df[cat].astype('category')\n",
    "df_dummy = pd.get_dummies(df[cat], drop_first = True)\n",
    "df = df.drop(cat, axis=1)\n",
    "df = pd.concat([df, df_dummy], axis=1)\n",
    "df.head()\n",
    "\n",
    "pr[cat] = pr[cat].astype('category')\n",
    "pr_dummy = pd.get_dummies(pr[cat], drop_first = True)\n",
    "pr = pr.drop(cat, axis=1)\n",
    "pr = pd.concat([pr, pr_dummy], axis=1)"
   ]
  },
  {
   "cell_type": "code",
   "execution_count": 12,
   "metadata": {},
   "outputs": [],
   "source": [
    "from sklearn.impute import SimpleImputer\n",
    "num = ['Year of Record', 'Age', 'Size of City']\n",
    "df[num] = df[num].fillna(df.median())\n",
    "pr[num] = pr[num].fillna(pr.median())\n",
    "\n",
    "from sklearn.preprocessing import StandardScaler\n",
    "scale = StandardScaler()\n",
    "df[num] = scale.fit_transform(df[num])\n",
    "pr[num] = scale.fit_transform(pr[num])"
   ]
  },
  {
   "cell_type": "code",
   "execution_count": 53,
   "metadata": {},
   "outputs": [],
   "source": [
    "from sklearn.model_selection import train_test_split\n",
    "\n",
    "#X = df.drop('Income in EUR', axis=1)\n",
    "#X = X.iloc[:, 0:1490]\n",
    "cols = ['Year of Record', 'Age', 'Size of City']\n",
    "X = df[cols]\n",
    "y = df['Income in EUR']\n",
    "\n",
    "X_train, X_test, y_train, y_test = train_test_split(X, y, test_size=0.2, random_state=1234)"
   ]
  },
  {
   "cell_type": "code",
   "execution_count": 54,
   "metadata": {},
   "outputs": [
    {
     "data": {
      "text/plain": [
       "0.06123002761131324"
      ]
     },
     "execution_count": 54,
     "metadata": {},
     "output_type": "execute_result"
    }
   ],
   "source": [
    "from sklearn.linear_model import LinearRegression\n",
    "from sklearn.ensemble import RandomForestRegressor\n",
    "model = LinearRegression().fit(X_train, y_train)\n",
    "model.score(X_test, y_test)"
   ]
  },
  {
   "cell_type": "code",
   "execution_count": 55,
   "metadata": {},
   "outputs": [],
   "source": [
    "X_pred = pr[cols]\n",
    "y_pred = model.predict(X_pred)"
   ]
  },
  {
   "cell_type": "code",
   "execution_count": 56,
   "metadata": {},
   "outputs": [
    {
     "data": {
      "image/png": "[encoded data removed]",
      "text/plain": [
       "<Figure size 432x288 with 1 Axes>"
      ]
     },
     "metadata": {
      "needs_background": "light"
     },
     "output_type": "display_data"
    }
   ],
   "source": [
    "import matplotlib.pyplot as plt\n",
    "plt.hist(y_pred, bins=300)\n",
    "plt.show()"
   ]
  },
  {
   "cell_type": "code",
   "execution_count": 57,
   "metadata": {},
   "outputs": [],
   "source": [
    "submit = pd.read_csv('submit.csv')\n",
    "submit['Income'] = y_pred\n",
    "submit.to_csv('submit.csv', index=False)"
   ]
  },
  {
   "cell_type": "code",
   "execution_count": null,
   "metadata": {},
   "outputs": [],
   "source": []
  }
 ],
 "metadata": {
  "kernelspec": {
   "display_name": "Python 3",
   "language": "python",
   "name": "python3"
  },
  "language_info": {
   "codemirror_mode": {
    "name": "ipython",
    "version": 3
   },
   "file_extension": ".py",
   "mimetype": "text/x-python",
   "name": "python",
   "nbconvert_exporter": "python",
   "pygments_lexer": "ipython3",
   "version": "3.7.3"
  }
 },
 "nbformat": 4,
 "nbformat_minor": 1
}
